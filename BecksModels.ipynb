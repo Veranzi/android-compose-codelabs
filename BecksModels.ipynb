{
  "nbformat": 4,
  "nbformat_minor": 0,
  "metadata": {
    "colab": {
      "provenance": [],
      "collapsed_sections": [],
      "mount_file_id": "1zrHSHNunPfhjAxAy8iV-MOxv2G-0GLFZ",
      "authorship_tag": "ABX9TyNFdpHwYFbG9mSuz3vOnoQn",
      "include_colab_link": true
    },
    "kernelspec": {
      "name": "python3",
      "display_name": "Python 3"
    },
    "language_info": {
      "name": "python"
    }
  },
  "cells": [
    {
      "cell_type": "markdown",
      "metadata": {
        "id": "view-in-github",
        "colab_type": "text"
      },
      "source": [
        "<a href=\"https://colab.research.google.com/github/Veranzi/android-compose-codelabs/blob/main/BecksModels.ipynb\" target=\"_parent\"><img src=\"https://colab.research.google.com/assets/colab-badge.svg\" alt=\"Open In Colab\"/></a>"
      ]
    },
    {
      "cell_type": "code",
      "source": [
        "from google.colab import drive\n",
        "drive.mount('/content/drive/')"
      ],
      "metadata": {
        "colab": {
          "base_uri": "https://localhost:8080/"
        },
        "id": "1SQbrKvTls-T",
        "outputId": "d791b71a-de8f-4097-ad50-bd71d7f1bfd4"
      },
      "execution_count": 1,
      "outputs": [
        {
          "output_type": "stream",
          "name": "stdout",
          "text": [
            "Drive already mounted at /content/drive/; to attempt to forcibly remount, call drive.mount(\"/content/drive/\", force_remount=True).\n"
          ]
        }
      ]
    },
    {
      "cell_type": "code",
      "source": [
        "pip install sklite"
      ],
      "metadata": {
        "colab": {
          "base_uri": "https://localhost:8080/"
        },
        "id": "baPe1Y-PhwLX",
        "outputId": "9f740d1a-4ba2-4616-a560-39e48ef404d4"
      },
      "execution_count": 9,
      "outputs": [
        {
          "output_type": "stream",
          "name": "stdout",
          "text": [
            "Looking in indexes: https://pypi.org/simple, https://us-python.pkg.dev/colab-wheels/public/simple/\n",
            "Collecting sklite\n",
            "  Downloading sklite-0.0.2-py3-none-any.whl (11 kB)\n",
            "Installing collected packages: sklite\n",
            "Successfully installed sklite-0.0.2\n"
          ]
        }
      ]
    },
    {
      "cell_type": "code",
      "source": [
        "\n",
        "import os\n",
        "import numpy as np\n",
        "import pandas as pd\n",
        "from sklearn.metrics import confusion_matrix\n",
        "from sklearn.preprocessing import LabelEncoder\n",
        "from sklearn.model_selection import train_test_split\n",
        "from sklearn.svm import SVC\n",
        "from sklite import LazyExport"
      ],
      "metadata": {
        "id": "7xHtVhJXmA1K"
      },
      "execution_count": 10,
      "outputs": []
    },
    {
      "cell_type": "code",
      "execution_count": 5,
      "metadata": {
        "id": "EeYWGYBwkjyj"
      },
      "outputs": [],
      "source": [
        "class Model:\n",
        "\n",
        "    def __init__(self):\n",
        "        self.model_filename='svc_depression_model.json'\n",
        "        self.svm_classifier = None\n",
        "        self.name = ''\n",
        "        self.x_train = None\n",
        "        self.x_test = None\n",
        "        self.y_train = None\n",
        "        self.y_test = None\n",
        "        \n",
        "        self.df = pd.read_csv('/content/drive/MyDrive/datasets/models/depressionDetectionDataset.csv')\n",
        "        self.df = self.df[['q1', 'q2', 'q3', 'q4', 'q5', 'q6', 'q7', 'q8', 'q9', 'q10', 'class']]\n",
        "        \n",
        "        x = self.df.iloc[:, [0, 1, 2, 3, 4, 5, 6, 7, 8, 9]].values\n",
        "        y = self.df.iloc[:, 10].values\n",
        "\n",
        "        # Handling Missing Data\n",
        "        self.df['q1'] = self.df['q1'].fillna(self.df['q1'].mode()[0])\n",
        "        self.df['q2'] = self.df['q2'].fillna(self.df['q2'].mode()[0])\n",
        "        self.df['q3'] = self.df['q3'].fillna(self.df['q3'].mode()[0])\n",
        "        self.df['q4'] = self.df['q4'].fillna(self.df['q4'].mode()[0])\n",
        "        self.df['q5'] = self.df['q5'].fillna(self.df['q5'].mode()[0])\n",
        "        self.df['q6'] = self.df['q6'].fillna(self.df['q6'].mode()[0])\n",
        "        self.df['q7'] = self.df['q7'].fillna(self.df['q7'].mode()[0])\n",
        "        self.df['q8'] = self.df['q8'].fillna(self.df['q8'].mode()[0])\n",
        "        self.df['q9'] = self.df['q9'].fillna(self.df['q9'].mode()[0])\n",
        "        self.df['q10'] = self.df['q10'].fillna(self.df['q10'].mode()[0])\n",
        "        self.df['class'] = self.df['class'].fillna(self.df['class'].mode()[0])\n",
        "        self.split_data(self.df)\n",
        "\n",
        "    def split_data(self,df):\n",
        "        x = df.iloc[1:, [0, 1, 2, 3, 4, 5, 6, 7, 8, 9]].values\n",
        "        y = df.iloc[1:, 10].values\n",
        "        x_train, x_test, y_train, y_test = train_test_split(x, y, test_size=0.4, random_state=24)\n",
        "        self.x_train = x_train\n",
        "        self.x_test = x_test\n",
        "        self.y_train = y_train\n",
        "        self.y_test = y_test\n",
        "\n",
        "    def create_model(self):\n",
        "        self.name = 'Svm Classifier'\n",
        "        classifier = SVC()\n",
        "        if not self.svm_classifier:\n",
        "          self.svm_classifier = classifier.fit(self.x_train, self.y_train)\n",
        "        if self.model_filename not in os.listdir('./'):\n",
        "          lazy = LazyExport(self.svm_classifier)\n",
        "          lazy.save(self.model_filename)\n",
        "        return self.svm_classifier\n",
        "        \n",
        "    def test_model(self):\n",
        "        if not self.svm_classifier:\n",
        "          raise Exception(\"You need to create the model first!\")\n",
        "        else:\n",
        "          predictions = self.svm_classifier.predict(self.x_test)\n",
        "          cm = confusion_matrix(self.y_test, predictions)\n",
        "          accuracy = (cm[0][0] + cm[1][1]) / (cm[0][0] + cm[0][1] + cm[1][0] + cm[1][1])\n",
        "          print(f\"{self.name} has accuracy of {accuracy *100} % \")\n",
        "\n",
        "    def predict(self, x_inputs):\n",
        "      if not self.svm_classifier:\n",
        "        raise Exception(\"You need to create the model first!\")\n",
        "      else:\n",
        "        predictions = self.svm_classifier.predict(x_inputs)\n",
        "        return predictions"
      ]
    },
    {
      "cell_type": "code",
      "source": [
        "model = Model()\n",
        "model.create_model()\n",
        "x_inputs=[[0, 0, 1, 0, 0, 2, 0, 0, 1, 0]]\n",
        "predictions = model.predict(x_inputs)"
      ],
      "metadata": {
        "id": "fYu-35zBVKik",
        "colab": {
          "base_uri": "https://localhost:8080/"
        },
        "outputId": "e995f872-56cd-4e42-fe3e-dbc7c11980b7"
      },
      "execution_count": 11,
      "outputs": [
        {
          "output_type": "stream",
          "name": "stderr",
          "text": [
            "/usr/local/lib/python3.7/dist-packages/sklite/lib/abstract.py:85: UserWarning: /root/.sklite has been created.\n",
            "  warnings.warn(wrn)\n"
          ]
        }
      ]
    },
    {
      "cell_type": "code",
      "source": [
        "print(predictions)"
      ],
      "metadata": {
        "colab": {
          "base_uri": "https://localhost:8080/"
        },
        "id": "Z3ryP8z9rKC2",
        "outputId": "e44c08c3-f534-4f7f-e76d-d1fb80cc3766"
      },
      "execution_count": 12,
      "outputs": [
        {
          "output_type": "stream",
          "name": "stdout",
          "text": [
            "[1]\n"
          ]
        }
      ]
    },
    {
      "cell_type": "code",
      "source": [
        "#saving using .h5 file\n",
        "#model.save('Becksmodel.h5')"
      ],
      "metadata": {
        "id": "-_GguacbrFOC"
      },
      "execution_count": 14,
      "outputs": []
    }
  ]
}